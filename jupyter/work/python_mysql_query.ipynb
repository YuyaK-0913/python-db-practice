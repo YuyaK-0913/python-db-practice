{
 "cells": [
  {
   "cell_type": "markdown",
   "id": "b184dcf2-9b85-4c4a-804a-2e214d3382b3",
   "metadata": {},
   "source": [
    "# MySQLライブラリの使い方の確認"
   ]
  },
  {
   "cell_type": "code",
   "execution_count": 86,
   "id": "39e3b386-b8ba-4a76-afef-0c89c9eb231a",
   "metadata": {},
   "outputs": [],
   "source": [
    "import os\n",
    "from abc import ABC, abstractmethod\n",
    "import mysql.connector\n",
    "from typing import Any\n",
    "from pydantic import BaseModel, Extra\n",
    "from datetime import date\n",
    "import pandas as pd\n",
    "import numpy as np"
   ]
  },
  {
   "cell_type": "markdown",
   "id": "5a140b9f-6279-4e92-ac2d-0e110c7ee294",
   "metadata": {},
   "source": [
    "## 接続部抽象化用のクラス定義"
   ]
  },
  {
   "cell_type": "code",
   "execution_count": 8,
   "id": "90a9e127-91d6-4390-8043-e4e328f6b3f5",
   "metadata": {},
   "outputs": [],
   "source": [
    "class AbstractDBClient(ABC):\n",
    "    def __init__(self):\n",
    "        pass\n",
    "\n",
    "    @abstractmethod\n",
    "    def get_connection(self):\n",
    "        raise NotImplementedError\n",
    "\n",
    "\n",
    "class MySQLClient():\n",
    "    def __init__(self):\n",
    "        self.__mysql_user = os.getenv(\"MYSQL_USER\")\n",
    "        self.__mysql_password = os.getenv(\"MYSQL_PASSWORD\")\n",
    "        self.__mysql_port = int(os.getenv(\"MYSQL_PORT\", 3306))\n",
    "        self.__mysql_dbname = os.getenv(\"MYSQL_DATABASE\")\n",
    "        self.__mysql_host = os.getenv(\"MYSQL_HOST\")\n",
    "        self.__connection_string = {\n",
    "            'host': self.__mysql_host,\n",
    "            'port': self.__mysql_port,\n",
    "            'user': self.__mysql_user,\n",
    "            'password': self.__mysql_password,\n",
    "            'database': self.__mysql_dbname,\n",
    "        }\n",
    "        \n",
    "    def get_connection(self):\n",
    "        return mysql.connector.connect(**self.__connection_string)"
   ]
  },
  {
   "cell_type": "markdown",
   "id": "cadd0024-d207-41e8-a3ff-b01f619039ee",
   "metadata": {},
   "source": [
    "## 接続確認"
   ]
  },
  {
   "cell_type": "code",
   "execution_count": 9,
   "id": "3fe97357-4e46-4394-8f43-1631c2fc9f09",
   "metadata": {},
   "outputs": [
    {
     "data": {
      "text/plain": [
       "True"
      ]
     },
     "execution_count": 9,
     "metadata": {},
     "output_type": "execute_result"
    }
   ],
   "source": [
    "client = MySQLClient()\n",
    "conn = client.get_connection()\n",
    "\n",
    "conn.is_connected()"
   ]
  },
  {
   "cell_type": "markdown",
   "id": "df03987a-fc88-40ec-87a7-c2ea369552a2",
   "metadata": {},
   "source": [
    "## データベース操作の方法①"
   ]
  },
  {
   "cell_type": "code",
   "execution_count": 10,
   "id": "91afbc8f-e32d-464b-965c-69b39886afc7",
   "metadata": {},
   "outputs": [
    {
     "name": "stdout",
     "output_type": "stream",
     "text": [
      "{'game_date': datetime.date(2023, 9, 3), 'pitch_type': 'SL', 'release_speed': 88.7, 'batter_name': 'Ohtani, Shohei', 'events': 'field_out', 'balls': 3, 'strikes': 2, 'inning': 3, 'stand': 'L', 'p_throws': 'L'}\n"
     ]
    }
   ],
   "source": [
    "db_client = MySQLClient()\n",
    "conn = db_client.get_connection()\n",
    "\n",
    "# カーソルを取得\n",
    "# cursor = conn.cursor()\n",
    "cursor = conn.cursor(dictionary=True)\n",
    "\n",
    "# データベース操作\n",
    "# query = 'show tables;'\n",
    "query = 'select * from batting;'\n",
    "cursor.execute(query)\n",
    "\n",
    "# # 結果を取得（fetchall）\n",
    "# rows = cursor.fetchall()\n",
    "# print(rows)\n",
    "\n",
    "# 結果を取得（fetchone）\n",
    "row = cursor.fetchone()\n",
    "cursor.fetchall() # 残りの結果を吐き出す\n",
    "print(row)\n",
    "\n",
    "## 結果を取得（fetchmany）\n",
    "# row = cursor.fetchmany(size=3)\n",
    "# cursor.fetchall() # 残りの結果を吐き出す\n",
    "# print(row)\n",
    "\n",
    "# 接続を閉じる\n",
    "cursor.close()\n",
    "conn.close()"
   ]
  },
  {
   "cell_type": "markdown",
   "id": "8bf7f267-2580-403d-8de0-e11b72e2fc98",
   "metadata": {},
   "source": [
    "## データベース操作の方法②"
   ]
  },
  {
   "cell_type": "code",
   "execution_count": 11,
   "id": "c9952405-1e47-4fd3-a7d8-01e9d0698a4d",
   "metadata": {},
   "outputs": [
    {
     "name": "stdout",
     "output_type": "stream",
     "text": [
      "{'game_date': datetime.date(2023, 9, 3), 'pitch_type': 'SL', 'release_speed': 88.7, 'batter_name': 'Ohtani, Shohei', 'events': 'field_out', 'balls': 3, 'strikes': 2, 'inning': 3, 'stand': 'L', 'p_throws': 'L'}\n"
     ]
    }
   ],
   "source": [
    "db_client = MySQLClient()\n",
    "query = 'select * from batting;'\n",
    "\n",
    "with db_client.get_connection() as conn:\n",
    "    with conn.cursor(dictionary=True) as cursor:\n",
    "        cursor.execute(query)\n",
    "        rows = cursor.fetchone()\n",
    "        cursor.fetchall() # 残りの結果を吐き出す\n",
    "\n",
    "print(rows)"
   ]
  },
  {
   "cell_type": "markdown",
   "id": "703e968a-46cc-4234-bda7-ad8ba23b1c26",
   "metadata": {},
   "source": [
    "## SQL実行部の抽象化"
   ]
  },
  {
   "cell_type": "code",
   "execution_count": 75,
   "id": "9cae95e0-5514-4468-82a7-68245aec9103",
   "metadata": {},
   "outputs": [],
   "source": [
    "class BaseRepository():\n",
    "    def __init__(\n",
    "        self,\n",
    "        db_client: AbstractDBClient,\n",
    "    ):\n",
    "        self.db_client = db_client\n",
    "        self.table_name: str = \"\"\n",
    "        \n",
    "    def execute_select_query(\n",
    "        self,\n",
    "        query: str,\n",
    "        parameters: tuple | None = None,\n",
    "    ) -> list[dict[str, Any]]:\n",
    "\n",
    "        with self.db_client.get_connection() as conn:\n",
    "            with conn.cursor(dictionary=True) as cursor:\n",
    "                cursor.execute(query, parameters)\n",
    "                \n",
    "                rows = cursor.fetchall()\n",
    "                \n",
    "                # rows = cursor.fetchmany(size=5)\n",
    "                # cursor.fetchall()\n",
    "        return rows"
   ]
  },
  {
   "cell_type": "markdown",
   "id": "61a5a58c-3c94-4109-bd09-6992efa1bfe4",
   "metadata": {},
   "source": [
    "## 単一テーブルからのデータ取得"
   ]
  },
  {
   "cell_type": "code",
   "execution_count": 16,
   "id": "79e67503-e4b1-4074-8160-daa79d26c058",
   "metadata": {},
   "outputs": [
    {
     "name": "stderr",
     "output_type": "stream",
     "text": [
      "/tmp/ipykernel_78/1907790315.py:14: PydanticDeprecatedSince20: `pydantic.config.Extra` is deprecated, use literal values instead (e.g. `extra='allow'`). Deprecated in Pydantic V2.0 to be removed in V3.0. See Pydantic V2 Migration Guide at https://errors.pydantic.dev/2.9/migration/\n",
      "  extra = Extra.forbid\n"
     ]
    }
   ],
   "source": [
    "class All(BaseModel):\n",
    "    game_date: date\n",
    "    pitch_type: str\n",
    "    release_speed: float\n",
    "    batter_name: str\n",
    "    events: str\n",
    "    balls: int\n",
    "    strikes: int\n",
    "    inning: int\n",
    "    stand: str\n",
    "    p_throws: str\n",
    "    \n",
    "    class Config:\n",
    "        extra = Extra.forbid\n",
    "\n",
    "class Part(BaseModel): \n",
    "    game_date: date\n",
    "    pitch_type: str\n",
    "    release_speed: float\n",
    "\n",
    "class BatterRepository(BaseRepository):\n",
    "    def __init__(\n",
    "        self,\n",
    "        db_client: AbstractDBClient,\n",
    "    ):\n",
    "        super().__init__(db_client=db_client)\n",
    "        self.table_name: str = 'batting'\n",
    "        \n",
    "    def select_all(self) -> list[All]:\n",
    "        query = f\"\"\"\n",
    "        select * from {self.table_name};\n",
    "        \"\"\"\n",
    "        \n",
    "        # list[dict]\n",
    "        records = self.execute_select_query(query=query)\n",
    "        \n",
    "        # list[Batting]\n",
    "        # pythonオブジェクトへの変換\n",
    "        data = [All(**r) for r in records]\n",
    "        \n",
    "        return data\n",
    "    \n",
    "    def select_parts(self) -> list[Part]:\n",
    "        query = f\"\"\"\n",
    "        select game_date, pitch_type, release_speed\n",
    "        from {self.table_name};\n",
    "        \"\"\"\n",
    "        records = self.execute_select_query(query=query)\n",
    "        data = [Part(**r) for r in records]\n",
    "        \n",
    "        return data"
   ]
  },
  {
   "cell_type": "code",
   "execution_count": 17,
   "id": "4d905704-6504-4782-828b-bdd80172914b",
   "metadata": {},
   "outputs": [],
   "source": [
    "db_client = MySQLClient()\n",
    "batter = BatterRepository(db_client=db_client)"
   ]
  },
  {
   "cell_type": "code",
   "execution_count": 18,
   "id": "6d3a1a03-c9f0-4a6f-9ad2-613b93fdb9e7",
   "metadata": {},
   "outputs": [
    {
     "data": {
      "text/plain": [
       "[All(game_date=datetime.date(2023, 9, 3), pitch_type='SL', release_speed=88.7, batter_name='Ohtani, Shohei', events='field_out', balls=3, strikes=2, inning=3, stand='L', p_throws='L'),\n",
       " All(game_date=datetime.date(2023, 9, 3), pitch_type='CU', release_speed=83.9, batter_name='Ohtani, Shohei', events='', balls=2, strikes=2, inning=3, stand='L', p_throws='L'),\n",
       " All(game_date=datetime.date(2023, 9, 3), pitch_type='CU', release_speed=82.3, batter_name='Ohtani, Shohei', events='', balls=1, strikes=2, inning=3, stand='L', p_throws='L'),\n",
       " All(game_date=datetime.date(2023, 9, 3), pitch_type='FF', release_speed=94.3, batter_name='Ohtani, Shohei', events='', balls=1, strikes=1, inning=3, stand='L', p_throws='L'),\n",
       " All(game_date=datetime.date(2023, 9, 3), pitch_type='FF', release_speed=93.9, batter_name='Ohtani, Shohei', events='', balls=1, strikes=0, inning=3, stand='L', p_throws='L')]"
      ]
     },
     "execution_count": 18,
     "metadata": {},
     "output_type": "execute_result"
    }
   ],
   "source": [
    "data = batter.select_all()\n",
    "data"
   ]
  },
  {
   "cell_type": "code",
   "execution_count": 19,
   "id": "1081a855-d5ab-4aa4-8882-407b88cf12ab",
   "metadata": {},
   "outputs": [
    {
     "data": {
      "text/plain": [
       "[Part(game_date=datetime.date(2023, 9, 3), pitch_type='SL', release_speed=88.7),\n",
       " Part(game_date=datetime.date(2023, 9, 3), pitch_type='CU', release_speed=83.9),\n",
       " Part(game_date=datetime.date(2023, 9, 3), pitch_type='CU', release_speed=82.3),\n",
       " Part(game_date=datetime.date(2023, 9, 3), pitch_type='FF', release_speed=94.3),\n",
       " Part(game_date=datetime.date(2023, 9, 3), pitch_type='FF', release_speed=93.9)]"
      ]
     },
     "execution_count": 19,
     "metadata": {},
     "output_type": "execute_result"
    }
   ],
   "source": [
    "data = batter.select_parts()\n",
    "data"
   ]
  },
  {
   "cell_type": "code",
   "execution_count": 20,
   "id": "4a550be1-af40-4209-92ad-387b63dfdbee",
   "metadata": {},
   "outputs": [
    {
     "data": {
      "text/plain": [
       "datetime.date(2023, 9, 3)"
      ]
     },
     "execution_count": 20,
     "metadata": {},
     "output_type": "execute_result"
    }
   ],
   "source": [
    "data[0].game_date"
   ]
  },
  {
   "cell_type": "markdown",
   "id": "4ad626fe-a61f-426b-8a1d-d0030392d149",
   "metadata": {},
   "source": [
    "## 複数テーブルからのデータ取得"
   ]
  },
  {
   "cell_type": "code",
   "execution_count": 49,
   "id": "30f6428d-f1b3-4093-a3df-02ee3f779bfc",
   "metadata": {},
   "outputs": [
    {
     "name": "stderr",
     "output_type": "stream",
     "text": [
      "/tmp/ipykernel_78/3097963227.py:16: PydanticDeprecatedSince20: `pydantic.config.Extra` is deprecated, use literal values instead (e.g. `extra='allow'`). Deprecated in Pydantic V2.0 to be removed in V3.0. See Pydantic V2 Migration Guide at https://errors.pydantic.dev/2.9/migration/\n",
      "  extra = Extra.forbid\n"
     ]
    }
   ],
   "source": [
    "class Merged(BaseModel):\n",
    "    game_date: date\n",
    "    pitch_type: str\n",
    "    release_speed: float\n",
    "    batter_name: str\n",
    "    events: str\n",
    "    balls: int\n",
    "    strikes: int\n",
    "    inning: int\n",
    "    stand: str\n",
    "    p_throws: str\n",
    "    day_of_week: int\n",
    "    day_name: str\n",
    "    \n",
    "    class Config:\n",
    "        extra = Extra.forbid\n",
    "        \n",
    "class MergedRepository(BaseRepository):\n",
    "    def __init__(\n",
    "        self,\n",
    "        db_client: AbstractDBClient,\n",
    "    ):\n",
    "        super().__init__(db_client=db_client)\n",
    "        self.table_name: str = 'batting'\n",
    "        \n",
    "    def select(self) -> list[All]:\n",
    "        query = f\"\"\"\n",
    "        select \n",
    "            {self.table_name}.*,\n",
    "            gd.day_of_week,\n",
    "            gd.day_name\n",
    "        from \n",
    "            {self.table_name}\n",
    "        join\n",
    "            game_dates gd on {self.table_name}.game_date = gd.date;\n",
    "        \"\"\"\n",
    "        \n",
    "        # list[dict]\n",
    "        records = self.execute_select_query(query=query)\n",
    "        \n",
    "        # list[Batting]\n",
    "        # pythonオブジェクトへの変換\n",
    "        data = [Merged(**r) for r in records]\n",
    "        \n",
    "        return data"
   ]
  },
  {
   "cell_type": "code",
   "execution_count": 50,
   "id": "2bbd21a2-3093-4e48-ab91-c726df6380f6",
   "metadata": {},
   "outputs": [],
   "source": [
    "db_client = MySQLClient()\n",
    "merged = MergedRepository(db_client=db_client)\n",
    "data = merged.select()"
   ]
  },
  {
   "cell_type": "code",
   "execution_count": 51,
   "id": "8800ea1a-b4c2-4e85-81ff-f13d8e524dbd",
   "metadata": {},
   "outputs": [
    {
     "data": {
      "text/plain": [
       "[Merged(game_date=datetime.date(2023, 9, 3), pitch_type='SL', release_speed=88.7, batter_name='Ohtani, Shohei', events='field_out', balls=3, strikes=2, inning=3, stand='L', p_throws='L', day_of_week=1, day_name='Sunday'),\n",
       " Merged(game_date=datetime.date(2023, 9, 3), pitch_type='CU', release_speed=83.9, batter_name='Ohtani, Shohei', events='', balls=2, strikes=2, inning=3, stand='L', p_throws='L', day_of_week=1, day_name='Sunday'),\n",
       " Merged(game_date=datetime.date(2023, 9, 3), pitch_type='CU', release_speed=82.3, batter_name='Ohtani, Shohei', events='', balls=1, strikes=2, inning=3, stand='L', p_throws='L', day_of_week=1, day_name='Sunday'),\n",
       " Merged(game_date=datetime.date(2023, 9, 3), pitch_type='FF', release_speed=94.3, batter_name='Ohtani, Shohei', events='', balls=1, strikes=1, inning=3, stand='L', p_throws='L', day_of_week=1, day_name='Sunday'),\n",
       " Merged(game_date=datetime.date(2023, 9, 3), pitch_type='FF', release_speed=93.9, batter_name='Ohtani, Shohei', events='', balls=1, strikes=0, inning=3, stand='L', p_throws='L', day_of_week=1, day_name='Sunday')]"
      ]
     },
     "execution_count": 51,
     "metadata": {},
     "output_type": "execute_result"
    }
   ],
   "source": [
    "data"
   ]
  },
  {
   "cell_type": "code",
   "execution_count": 52,
   "id": "4cd9def5-afb4-47b3-a493-67c5c699ef45",
   "metadata": {},
   "outputs": [],
   "source": [
    "lst = [d.dict() for d in data]"
   ]
  },
  {
   "cell_type": "code",
   "execution_count": 53,
   "id": "1ef635dd-85b8-4280-a14e-5727d852646a",
   "metadata": {},
   "outputs": [
    {
     "data": {
      "text/html": [
       "<div>\n",
       "<style scoped>\n",
       "    .dataframe tbody tr th:only-of-type {\n",
       "        vertical-align: middle;\n",
       "    }\n",
       "\n",
       "    .dataframe tbody tr th {\n",
       "        vertical-align: top;\n",
       "    }\n",
       "\n",
       "    .dataframe thead th {\n",
       "        text-align: right;\n",
       "    }\n",
       "</style>\n",
       "<table border=\"1\" class=\"dataframe\">\n",
       "  <thead>\n",
       "    <tr style=\"text-align: right;\">\n",
       "      <th></th>\n",
       "      <th>game_date</th>\n",
       "      <th>pitch_type</th>\n",
       "      <th>release_speed</th>\n",
       "      <th>batter_name</th>\n",
       "      <th>events</th>\n",
       "      <th>balls</th>\n",
       "      <th>strikes</th>\n",
       "      <th>inning</th>\n",
       "      <th>stand</th>\n",
       "      <th>p_throws</th>\n",
       "      <th>day_of_week</th>\n",
       "      <th>day_name</th>\n",
       "    </tr>\n",
       "  </thead>\n",
       "  <tbody>\n",
       "    <tr>\n",
       "      <th>0</th>\n",
       "      <td>2023-09-03</td>\n",
       "      <td>SL</td>\n",
       "      <td>88.7</td>\n",
       "      <td>Ohtani, Shohei</td>\n",
       "      <td>field_out</td>\n",
       "      <td>3</td>\n",
       "      <td>2</td>\n",
       "      <td>3</td>\n",
       "      <td>L</td>\n",
       "      <td>L</td>\n",
       "      <td>1</td>\n",
       "      <td>Sunday</td>\n",
       "    </tr>\n",
       "    <tr>\n",
       "      <th>1</th>\n",
       "      <td>2023-09-03</td>\n",
       "      <td>CU</td>\n",
       "      <td>83.9</td>\n",
       "      <td>Ohtani, Shohei</td>\n",
       "      <td></td>\n",
       "      <td>2</td>\n",
       "      <td>2</td>\n",
       "      <td>3</td>\n",
       "      <td>L</td>\n",
       "      <td>L</td>\n",
       "      <td>1</td>\n",
       "      <td>Sunday</td>\n",
       "    </tr>\n",
       "    <tr>\n",
       "      <th>2</th>\n",
       "      <td>2023-09-03</td>\n",
       "      <td>CU</td>\n",
       "      <td>82.3</td>\n",
       "      <td>Ohtani, Shohei</td>\n",
       "      <td></td>\n",
       "      <td>1</td>\n",
       "      <td>2</td>\n",
       "      <td>3</td>\n",
       "      <td>L</td>\n",
       "      <td>L</td>\n",
       "      <td>1</td>\n",
       "      <td>Sunday</td>\n",
       "    </tr>\n",
       "    <tr>\n",
       "      <th>3</th>\n",
       "      <td>2023-09-03</td>\n",
       "      <td>FF</td>\n",
       "      <td>94.3</td>\n",
       "      <td>Ohtani, Shohei</td>\n",
       "      <td></td>\n",
       "      <td>1</td>\n",
       "      <td>1</td>\n",
       "      <td>3</td>\n",
       "      <td>L</td>\n",
       "      <td>L</td>\n",
       "      <td>1</td>\n",
       "      <td>Sunday</td>\n",
       "    </tr>\n",
       "    <tr>\n",
       "      <th>4</th>\n",
       "      <td>2023-09-03</td>\n",
       "      <td>FF</td>\n",
       "      <td>93.9</td>\n",
       "      <td>Ohtani, Shohei</td>\n",
       "      <td></td>\n",
       "      <td>1</td>\n",
       "      <td>0</td>\n",
       "      <td>3</td>\n",
       "      <td>L</td>\n",
       "      <td>L</td>\n",
       "      <td>1</td>\n",
       "      <td>Sunday</td>\n",
       "    </tr>\n",
       "  </tbody>\n",
       "</table>\n",
       "</div>"
      ],
      "text/plain": [
       "    game_date pitch_type  release_speed     batter_name     events  balls  \\\n",
       "0  2023-09-03         SL           88.7  Ohtani, Shohei  field_out      3   \n",
       "1  2023-09-03         CU           83.9  Ohtani, Shohei                 2   \n",
       "2  2023-09-03         CU           82.3  Ohtani, Shohei                 1   \n",
       "3  2023-09-03         FF           94.3  Ohtani, Shohei                 1   \n",
       "4  2023-09-03         FF           93.9  Ohtani, Shohei                 1   \n",
       "\n",
       "   strikes  inning stand p_throws  day_of_week day_name  \n",
       "0        2       3     L        L            1   Sunday  \n",
       "1        2       3     L        L            1   Sunday  \n",
       "2        2       3     L        L            1   Sunday  \n",
       "3        1       3     L        L            1   Sunday  \n",
       "4        0       3     L        L            1   Sunday  "
      ]
     },
     "execution_count": 53,
     "metadata": {},
     "output_type": "execute_result"
    }
   ],
   "source": [
    "pd.DataFrame(lst)"
   ]
  },
  {
   "cell_type": "markdown",
   "id": "0054f2d9-e901-464f-83cd-2ef8a5367b29",
   "metadata": {},
   "source": [
    "## 複数テーブルからの条件付きでデータ取得"
   ]
  },
  {
   "cell_type": "code",
   "execution_count": 97,
   "id": "24fbac1b-252a-4ffe-9148-b48374ab1328",
   "metadata": {},
   "outputs": [
    {
     "name": "stderr",
     "output_type": "stream",
     "text": [
      "/tmp/ipykernel_78/1416491351.py:10: PydanticDeprecatedSince20: `pydantic.config.Extra` is deprecated, use literal values instead (e.g. `extra='allow'`). Deprecated in Pydantic V2.0 to be removed in V3.0. See Pydantic V2 Migration Guide at https://errors.pydantic.dev/2.9/migration/\n",
      "  extra = Extra.forbid\n"
     ]
    }
   ],
   "source": [
    "class MergedFiltered(BaseModel):\n",
    "    game_date: date\n",
    "    batter_name: str\n",
    "    inning: int\n",
    "    p_throws: str\n",
    "    day_of_week: int\n",
    "    day_name: str\n",
    "    \n",
    "    class Config:\n",
    "        extra = Extra.forbid\n",
    "        \n",
    "class MergedFilteredRepository(BaseRepository):\n",
    "    def __init__(\n",
    "        self,\n",
    "        db_client: AbstractDBClient,\n",
    "    ):\n",
    "        super().__init__(db_client=db_client)\n",
    "        self.table_name: str = 'batting'\n",
    "        \n",
    "    def select(\n",
    "        self,\n",
    "        date_from: date = None,\n",
    "        date_to: date = None,\n",
    "        day_of_week: int = None,\n",
    "    ) -> list[All]:\n",
    "        query = f\"\"\"\n",
    "        select \n",
    "            {self.table_name}.game_date,\n",
    "            {self.table_name}.batter_name,\n",
    "            {self.table_name}.inning,\n",
    "            {self.table_name}.p_throws,\n",
    "            gd.day_of_week,\n",
    "            gd.day_name\n",
    "        from \n",
    "            {self.table_name}\n",
    "        join\n",
    "            game_dates gd on {self.table_name}.game_date = gd.date\n",
    "        \"\"\"\n",
    "        \n",
    "        where=\"\"\n",
    "        parameters=[]\n",
    "        \n",
    "        prefix = \"where\"\n",
    "        if date_from is not None:\n",
    "            where += f\"{prefix} {self.table_name}.game_date >= %s \"\n",
    "            parameters.append(date_from)\n",
    "            prefix = \"and\"\n",
    "        if date_to is not None:\n",
    "            where += f\"{prefix} {self.table_name}.game_date <= %s \"\n",
    "            parameters.append(date_to)\n",
    "            prefix = \"and\"\n",
    "        if day_of_week is not None:\n",
    "            where += f\"{prefix} gd.day_of_week = %s \"\n",
    "            parameters.append(day_of_week)\n",
    "            prefix = \"and\"\n",
    "        \n",
    "        query += where\n",
    "        \n",
    "        print(query)\n",
    "        \n",
    "        # list[dict]\n",
    "        records = self.execute_select_query(\n",
    "            query=query,\n",
    "            parameters=tuple(parameters),\n",
    "        )\n",
    "                \n",
    "        # list[Batting]\n",
    "        # pythonオブジェクトへの変換\n",
    "        data = [MergedFiltered(**r) for r in records]\n",
    "        \n",
    "        return data"
   ]
  },
  {
   "cell_type": "code",
   "execution_count": 103,
   "id": "dd8e7336-09df-448e-972b-55f2e82e4e98",
   "metadata": {},
   "outputs": [
    {
     "name": "stdout",
     "output_type": "stream",
     "text": [
      "\n",
      "        select \n",
      "            batting.game_date,\n",
      "            batting.batter_name,\n",
      "            batting.inning,\n",
      "            batting.p_throws,\n",
      "            gd.day_of_week,\n",
      "            gd.day_name\n",
      "        from \n",
      "            batting\n",
      "        join\n",
      "            game_dates gd on batting.game_date = gd.date\n",
      "        where batting.game_date >= %s and batting.game_date <= %s and gd.day_of_week = %s \n"
     ]
    }
   ],
   "source": [
    "db_client = MySQLClient()\n",
    "mergedfiltered = MergedFilteredRepository(db_client=db_client)\n",
    "\n",
    "date_from = date(2023, 6, 1)\n",
    "date_to = date(2023, 6, 10)\n",
    "day_of_week = 1\n",
    "data = mergedfiltered.select(\n",
    "    date_from=date_from,\n",
    "    date_to=date_to,\n",
    "    day_of_week=day_of_week\n",
    ")"
   ]
  },
  {
   "cell_type": "code",
   "execution_count": 104,
   "id": "1ff3314c-8c21-4099-af03-758a823d1873",
   "metadata": {},
   "outputs": [
    {
     "data": {
      "text/html": [
       "<div>\n",
       "<style scoped>\n",
       "    .dataframe tbody tr th:only-of-type {\n",
       "        vertical-align: middle;\n",
       "    }\n",
       "\n",
       "    .dataframe tbody tr th {\n",
       "        vertical-align: top;\n",
       "    }\n",
       "\n",
       "    .dataframe thead th {\n",
       "        text-align: right;\n",
       "    }\n",
       "</style>\n",
       "<table border=\"1\" class=\"dataframe\">\n",
       "  <thead>\n",
       "    <tr style=\"text-align: right;\">\n",
       "      <th></th>\n",
       "      <th>game_date</th>\n",
       "      <th>batter_name</th>\n",
       "      <th>inning</th>\n",
       "      <th>p_throws</th>\n",
       "      <th>day_of_week</th>\n",
       "      <th>day_name</th>\n",
       "    </tr>\n",
       "  </thead>\n",
       "  <tbody>\n",
       "    <tr>\n",
       "      <th>0</th>\n",
       "      <td>2023-06-04</td>\n",
       "      <td>Ohtani, Shohei</td>\n",
       "      <td>6</td>\n",
       "      <td>R</td>\n",
       "      <td>1</td>\n",
       "      <td>Sunday</td>\n",
       "    </tr>\n",
       "    <tr>\n",
       "      <th>1</th>\n",
       "      <td>2023-06-04</td>\n",
       "      <td>Ohtani, Shohei</td>\n",
       "      <td>6</td>\n",
       "      <td>R</td>\n",
       "      <td>1</td>\n",
       "      <td>Sunday</td>\n",
       "    </tr>\n",
       "    <tr>\n",
       "      <th>2</th>\n",
       "      <td>2023-06-04</td>\n",
       "      <td>Ohtani, Shohei</td>\n",
       "      <td>6</td>\n",
       "      <td>R</td>\n",
       "      <td>1</td>\n",
       "      <td>Sunday</td>\n",
       "    </tr>\n",
       "    <tr>\n",
       "      <th>3</th>\n",
       "      <td>2023-06-04</td>\n",
       "      <td>Ohtani, Shohei</td>\n",
       "      <td>6</td>\n",
       "      <td>R</td>\n",
       "      <td>1</td>\n",
       "      <td>Sunday</td>\n",
       "    </tr>\n",
       "    <tr>\n",
       "      <th>4</th>\n",
       "      <td>2023-06-04</td>\n",
       "      <td>Ohtani, Shohei</td>\n",
       "      <td>4</td>\n",
       "      <td>R</td>\n",
       "      <td>1</td>\n",
       "      <td>Sunday</td>\n",
       "    </tr>\n",
       "    <tr>\n",
       "      <th>5</th>\n",
       "      <td>2023-06-04</td>\n",
       "      <td>Ohtani, Shohei</td>\n",
       "      <td>4</td>\n",
       "      <td>R</td>\n",
       "      <td>1</td>\n",
       "      <td>Sunday</td>\n",
       "    </tr>\n",
       "    <tr>\n",
       "      <th>6</th>\n",
       "      <td>2023-06-04</td>\n",
       "      <td>Ohtani, Shohei</td>\n",
       "      <td>4</td>\n",
       "      <td>R</td>\n",
       "      <td>1</td>\n",
       "      <td>Sunday</td>\n",
       "    </tr>\n",
       "    <tr>\n",
       "      <th>7</th>\n",
       "      <td>2023-06-04</td>\n",
       "      <td>Ohtani, Shohei</td>\n",
       "      <td>4</td>\n",
       "      <td>R</td>\n",
       "      <td>1</td>\n",
       "      <td>Sunday</td>\n",
       "    </tr>\n",
       "    <tr>\n",
       "      <th>8</th>\n",
       "      <td>2023-06-04</td>\n",
       "      <td>Ohtani, Shohei</td>\n",
       "      <td>8</td>\n",
       "      <td>R</td>\n",
       "      <td>1</td>\n",
       "      <td>Sunday</td>\n",
       "    </tr>\n",
       "    <tr>\n",
       "      <th>9</th>\n",
       "      <td>2023-06-04</td>\n",
       "      <td>Ohtani, Shohei</td>\n",
       "      <td>8</td>\n",
       "      <td>R</td>\n",
       "      <td>1</td>\n",
       "      <td>Sunday</td>\n",
       "    </tr>\n",
       "    <tr>\n",
       "      <th>10</th>\n",
       "      <td>2023-06-04</td>\n",
       "      <td>Ohtani, Shohei</td>\n",
       "      <td>8</td>\n",
       "      <td>R</td>\n",
       "      <td>1</td>\n",
       "      <td>Sunday</td>\n",
       "    </tr>\n",
       "    <tr>\n",
       "      <th>11</th>\n",
       "      <td>2023-06-04</td>\n",
       "      <td>Ohtani, Shohei</td>\n",
       "      <td>8</td>\n",
       "      <td>R</td>\n",
       "      <td>1</td>\n",
       "      <td>Sunday</td>\n",
       "    </tr>\n",
       "    <tr>\n",
       "      <th>12</th>\n",
       "      <td>2023-06-04</td>\n",
       "      <td>Ohtani, Shohei</td>\n",
       "      <td>8</td>\n",
       "      <td>R</td>\n",
       "      <td>1</td>\n",
       "      <td>Sunday</td>\n",
       "    </tr>\n",
       "    <tr>\n",
       "      <th>13</th>\n",
       "      <td>2023-06-04</td>\n",
       "      <td>Ohtani, Shohei</td>\n",
       "      <td>8</td>\n",
       "      <td>R</td>\n",
       "      <td>1</td>\n",
       "      <td>Sunday</td>\n",
       "    </tr>\n",
       "    <tr>\n",
       "      <th>14</th>\n",
       "      <td>2023-06-04</td>\n",
       "      <td>Ohtani, Shohei</td>\n",
       "      <td>1</td>\n",
       "      <td>R</td>\n",
       "      <td>1</td>\n",
       "      <td>Sunday</td>\n",
       "    </tr>\n",
       "    <tr>\n",
       "      <th>15</th>\n",
       "      <td>2023-06-04</td>\n",
       "      <td>Ohtani, Shohei</td>\n",
       "      <td>1</td>\n",
       "      <td>R</td>\n",
       "      <td>1</td>\n",
       "      <td>Sunday</td>\n",
       "    </tr>\n",
       "  </tbody>\n",
       "</table>\n",
       "</div>"
      ],
      "text/plain": [
       "     game_date     batter_name  inning p_throws  day_of_week day_name\n",
       "0   2023-06-04  Ohtani, Shohei       6        R            1   Sunday\n",
       "1   2023-06-04  Ohtani, Shohei       6        R            1   Sunday\n",
       "2   2023-06-04  Ohtani, Shohei       6        R            1   Sunday\n",
       "3   2023-06-04  Ohtani, Shohei       6        R            1   Sunday\n",
       "4   2023-06-04  Ohtani, Shohei       4        R            1   Sunday\n",
       "5   2023-06-04  Ohtani, Shohei       4        R            1   Sunday\n",
       "6   2023-06-04  Ohtani, Shohei       4        R            1   Sunday\n",
       "7   2023-06-04  Ohtani, Shohei       4        R            1   Sunday\n",
       "8   2023-06-04  Ohtani, Shohei       8        R            1   Sunday\n",
       "9   2023-06-04  Ohtani, Shohei       8        R            1   Sunday\n",
       "10  2023-06-04  Ohtani, Shohei       8        R            1   Sunday\n",
       "11  2023-06-04  Ohtani, Shohei       8        R            1   Sunday\n",
       "12  2023-06-04  Ohtani, Shohei       8        R            1   Sunday\n",
       "13  2023-06-04  Ohtani, Shohei       8        R            1   Sunday\n",
       "14  2023-06-04  Ohtani, Shohei       1        R            1   Sunday\n",
       "15  2023-06-04  Ohtani, Shohei       1        R            1   Sunday"
      ]
     },
     "execution_count": 104,
     "metadata": {},
     "output_type": "execute_result"
    }
   ],
   "source": [
    "pd.DataFrame([d.dict() for d in data])"
   ]
  },
  {
   "cell_type": "code",
   "execution_count": 105,
   "id": "757b5dc6-8823-436d-a300-a6537f9a2ef5",
   "metadata": {},
   "outputs": [
    {
     "data": {
      "text/plain": [
       "array([datetime.date(2023, 6, 4)], dtype=object)"
      ]
     },
     "execution_count": 105,
     "metadata": {},
     "output_type": "execute_result"
    }
   ],
   "source": [
    "np.unique([d.game_date for d in data])"
   ]
  },
  {
   "cell_type": "code",
   "execution_count": null,
   "id": "b78e3e46-c9cb-4586-a2fd-a09ccb3140fe",
   "metadata": {},
   "outputs": [],
   "source": []
  },
  {
   "cell_type": "code",
   "execution_count": null,
   "id": "32c09f43-3067-4fbf-b36b-25912304bf84",
   "metadata": {},
   "outputs": [],
   "source": []
  }
 ],
 "metadata": {
  "kernelspec": {
   "display_name": "Python 3 (ipykernel)",
   "language": "python",
   "name": "python3"
  },
  "language_info": {
   "codemirror_mode": {
    "name": "ipython",
    "version": 3
   },
   "file_extension": ".py",
   "mimetype": "text/x-python",
   "name": "python",
   "nbconvert_exporter": "python",
   "pygments_lexer": "ipython3",
   "version": "3.10.6"
  }
 },
 "nbformat": 4,
 "nbformat_minor": 5
}
